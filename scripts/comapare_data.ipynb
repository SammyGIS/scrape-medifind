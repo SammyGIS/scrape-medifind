{
 "cells": [
  {
   "cell_type": "code",
   "execution_count": 87,
   "metadata": {},
   "outputs": [
    {
     "name": "stdout",
     "output_type": "stream",
     "text": [
      "total number of data in old_script_ouput is: 2628\n",
      "total number of data in new_script_ouput is: 4184\n"
     ]
    }
   ],
   "source": [
    "import pandas as pd\n",
    "\n",
    "old_script_output  = pd.read_excel(r'C:\\Users\\HP\\Desktop\\iHealth\\Data-Collection-Phase-1\\samuel\\medfind\\base_files\\data\\medifind_providers_nf.xlsx',\n",
    "                                   engine='openpyxl')\n",
    "new_script_ouput  = pd.read_excel(r'C:\\Users\\HP\\Desktop\\iHealth\\Data-Collection-Phase-1\\samuel\\medfind\\data\\medifind_providers_Neurofibromatosis_2023-08-01.xlsx',\n",
    "                                  engine='openpyxl')\n",
    "\n",
    "# drop_duplicates links\n",
    "old_script_output.drop_duplicates(subset='url', inplace = True)\n",
    "new_script_ouput.drop_duplicates(subset='url', inplace = True)\n",
    "\n",
    "#print the total rows in the data\n",
    "print(f'total number of data in old_script_ouput is: {len(old_script_output)}')\n",
    "print(f'total number of data in new_script_ouput is: {len(new_script_ouput)}')"
   ]
  },
  {
   "cell_type": "code",
   "execution_count": 88,
   "metadata": {},
   "outputs": [
    {
     "name": "stdout",
     "output_type": "stream",
     "text": [
      "Length of concatenated data: 6812\n",
      "Length of unique data: 4205\n"
     ]
    }
   ],
   "source": [
    "# Concatenate the two DataFrames\n",
    "append_data = pd.concat([old_script_output, new_script_ouput])\n",
    "\n",
    "print(\"Length of concatenated data:\", len(append_data))\n",
    "\n",
    "# Drop duplicates based on the 'url' column\n",
    "unique_data = append_data.drop_duplicates(subset='url')\n",
    "\n",
    "print(\"Length of unique data:\", len(unique_data))"
   ]
  },
  {
   "cell_type": "code",
   "execution_count": 89,
   "metadata": {},
   "outputs": [
    {
     "name": "stdout",
     "output_type": "stream",
     "text": [
      "New data not in old_script_output:\n"
     ]
    },
    {
     "data": {
      "text/plain": [
       "1577"
      ]
     },
     "execution_count": 89,
     "metadata": {},
     "output_type": "execute_result"
    }
   ],
   "source": [
    "# Perform an anti-join to find rows in unique_data but not in old_script_output\n",
    "new_data_not_in_old = pd.merge(unique_data, old_script_output, on='url', how='left', indicator=True)\n",
    "new_data_not_in_old = new_data_not_in_old[new_data_not_in_old['_merge'] == 'left_only']\n",
    "\n",
    "# Drop the '_merge' column that was used for comparison\n",
    "new_data_not_in_old.drop(columns=['_merge'], inplace=True)\n",
    "\n",
    "# Print the new data that's not in old_script_output\n",
    "print(\"New data not in old_script_output:\")\n",
    "len(new_data_not_in_old)"
   ]
  },
  {
   "cell_type": "code",
   "execution_count": 90,
   "metadata": {},
   "outputs": [],
   "source": [
    "new_data_not_in_old.to_csv(\"differences.csv\",index=False)"
   ]
  },
  {
   "cell_type": "code",
   "execution_count": 91,
   "metadata": {},
   "outputs": [
    {
     "name": "stdout",
     "output_type": "stream",
     "text": [
      "<class 'pandas.core.frame.DataFrame'>\n",
      "Int64Index: 2628 entries, 0 to 2681\n",
      "Data columns (total 4 columns):\n",
      " #   Column      Non-Null Count  Dtype         \n",
      "---  ------      --------------  -----         \n",
      " 0   Unnamed: 0  2628 non-null   int64         \n",
      " 1   url         2628 non-null   object        \n",
      " 2   condition   2628 non-null   object        \n",
      " 3   date        2628 non-null   datetime64[ns]\n",
      "dtypes: datetime64[ns](1), int64(1), object(2)\n",
      "memory usage: 102.7+ KB\n"
     ]
    }
   ],
   "source": [
    "old_script_output.info()"
   ]
  },
  {
   "cell_type": "code",
   "execution_count": 92,
   "metadata": {},
   "outputs": [
    {
     "name": "stdout",
     "output_type": "stream",
     "text": [
      "<class 'pandas.core.frame.DataFrame'>\n",
      "Int64Index: 4184 entries, 0 to 4183\n",
      "Data columns (total 4 columns):\n",
      " #   Column      Non-Null Count  Dtype         \n",
      "---  ------      --------------  -----         \n",
      " 0   Unnamed: 0  4184 non-null   int64         \n",
      " 1   url         4184 non-null   object        \n",
      " 2   condition   4184 non-null   object        \n",
      " 3   date        4184 non-null   datetime64[ns]\n",
      "dtypes: datetime64[ns](1), int64(1), object(2)\n",
      "memory usage: 163.4+ KB\n"
     ]
    }
   ],
   "source": [
    "new_script_ouput.info()"
   ]
  },
  {
   "cell_type": "code",
   "execution_count": 93,
   "metadata": {},
   "outputs": [],
   "source": [
    "# new_script_ouput['url_link'] = old_script_output['url']\n",
    "# old_script_output['url_link'] = new_script_ouput['url']\n",
    "\n",
    "old_script_output = old_script_output.set_index('url')\n",
    "new_script_ouput = new_script_ouput.set_index('url')\n",
    "\n",
    "joined_data = old_script_output.join(new_script_ouput,lsuffix=' Denis',rsuffix=' Samuel'\n",
    "                                    ,how='outer', on='url')\n",
    "joined_data.head()\n",
    "new_joined_data = joined_data.reset_index().drop('index',axis=1)"
   ]
  },
  {
   "cell_type": "code",
   "execution_count": 94,
   "metadata": {},
   "outputs": [
    {
     "data": {
      "text/plain": [
       "4205"
      ]
     },
     "execution_count": 94,
     "metadata": {},
     "output_type": "execute_result"
    }
   ],
   "source": [
    "len(new_joined_data)"
   ]
  },
  {
   "cell_type": "code",
   "execution_count": 95,
   "metadata": {},
   "outputs": [],
   "source": [
    "new_joined_data.to_csv(\"combined.csv\",index=False)"
   ]
  },
  {
   "cell_type": "code",
   "execution_count": null,
   "metadata": {},
   "outputs": [],
   "source": []
  }
 ],
 "metadata": {
  "kernelspec": {
   "display_name": "Python 3",
   "language": "python",
   "name": "python3"
  },
  "language_info": {
   "codemirror_mode": {
    "name": "ipython",
    "version": 3
   },
   "file_extension": ".py",
   "mimetype": "text/x-python",
   "name": "python",
   "nbconvert_exporter": "python",
   "pygments_lexer": "ipython3",
   "version": "3.7.0"
  },
  "orig_nbformat": 4
 },
 "nbformat": 4,
 "nbformat_minor": 2
}
