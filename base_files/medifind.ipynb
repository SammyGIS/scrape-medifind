{
 "cells": [
  {
   "attachments": {},
   "cell_type": "markdown",
   "metadata": {},
   "source": [
    "# Set Up/ Import Packages"
   ]
  },
  {
   "cell_type": "code",
   "execution_count": 46,
   "metadata": {},
   "outputs": [],
   "source": [
    "from bs4 import BeautifulSoup\n",
    "import pandas as pd\n",
    "from datetime import date\n",
    "\n",
    "from selenium import webdriver\n",
    "from selenium.webdriver.chrome.service import Service\n",
    "from selenium.webdriver.chrome.options import Options \n",
    "\n",
    "from webdriver_manager.chrome import ChromeDriverManager"
   ]
  },
  {
   "cell_type": "code",
   "execution_count": 47,
   "metadata": {},
   "outputs": [],
   "source": [
    "from selenium import webdriver \n",
    "from selenium.webdriver.chrome.options import Options\n",
    "from selenium.webdriver.common.by import By\n",
    "from selenium.webdriver.support.ui import WebDriverWait\n",
    "from selenium.webdriver.support import expected_conditions as EC"
   ]
  },
  {
   "cell_type": "code",
   "execution_count": 2,
   "metadata": {},
   "outputs": [],
   "source": [
    "# using older version works, v2.2.1\n",
    "#  % pip3 install undetected-chromedriver==2.2.1\n",
    "import undetected_chromedriver.v2 as uc\n"
   ]
  },
  {
   "cell_type": "code",
   "execution_count": 48,
   "metadata": {},
   "outputs": [
    {
     "data": {
      "text/plain": [
       "True"
      ]
     },
     "execution_count": 48,
     "metadata": {},
     "output_type": "execute_result"
    }
   ],
   "source": [
    "import os\n",
    "from dotenv import load_dotenv\n",
    "load_dotenv()"
   ]
  },
  {
   "cell_type": "code",
   "execution_count": 49,
   "metadata": {},
   "outputs": [],
   "source": [
    "import time"
   ]
  },
  {
   "attachments": {},
   "cell_type": "markdown",
   "metadata": {},
   "source": [
    "# Strategy"
   ]
  },
  {
   "attachments": {},
   "cell_type": "markdown",
   "metadata": {},
   "source": [
    "\n",
    "div \n",
    "\n",
    "class = Card_card__BOrl4\n",
    "\n",
    "id = card_doctor_11957429\n",
    "\n",
    "use selenium to naviagte by pages (seem to be 20 entries (providers) per page)\n",
    "\n",
    "\n",
    "Search for \n",
    "Neurofibromatosis\n",
    "Neurofibromatosis Type 1 (NF1)\n",
    "Neurofibromatosis Type 2 (NF2)\n",
    "Schwannomatosis\n",
    "\n",
    "\n",
    "Focus on United States"
   ]
  },
  {
   "attachments": {},
   "cell_type": "markdown",
   "metadata": {},
   "source": [
    "# Work"
   ]
  },
  {
   "attachments": {},
   "cell_type": "markdown",
   "metadata": {},
   "source": [
    "4.) get div with class: Card_card__BOrl4 and get the id\n",
    "    - the id helps us come up witht he url: base_url + f\"doctors//id\""
   ]
  },
  {
   "attachments": {},
   "cell_type": "markdown",
   "metadata": {},
   "source": [
    "1.) Go here: https://www.medifind.com/\n",
    "2.) Set location to United States\n",
    "3.) Input condition here: PARAMETERIZE\n",
    "\n",
    "we get this link now for example: \n",
    "base_url = https://www.medifind.com/conditions/neurofibromatosis/6508/doctors\n",
    "\n",
    "4.) get links to doctor profiles with selenium\n",
    "5.) Click next to see next 20 doctors\n",
    "    - need to be logged on in order to navigate website\n"
   ]
  },
  {
   "cell_type": "code",
   "execution_count": null,
   "metadata": {},
   "outputs": [],
   "source": [
    "# options = Options()\n",
    "# options.add_experimental_option(\"detach\", True)\n",
    "\n",
    "# driver = webdriver.Chrome(service = Service(ChromeDriverManager().install()), options=options)"
   ]
  },
  {
   "cell_type": "code",
   "execution_count": 50,
   "metadata": {},
   "outputs": [],
   "source": [
    "driver = webdriver.Chrome()"
   ]
  },
  {
   "cell_type": "code",
   "execution_count": 60,
   "metadata": {},
   "outputs": [],
   "source": [
    "MEDIFIND_USERNAME = os.getenv(\"MEDIFIND_USERNAME\")\n",
    "MEDIFIND_PASSWORD = os.getenv(\"MEDIFIND_PASSWORD\")\n",
    "\n",
    "location = \"United States\"\n",
    "condition = \"Neurofibromatosis Type 3 also known as Schwannomatosis\""
   ]
  },
  {
   "cell_type": "code",
   "execution_count": 19,
   "metadata": {},
   "outputs": [],
   "source": [
    "# log on to Google account\n",
    "# driver.get('https://accounts.google.com/ServiceLogin')\n",
    "# time.sleep(2)"
   ]
  },
  {
   "cell_type": "code",
   "execution_count": 20,
   "metadata": {},
   "outputs": [],
   "source": [
    "# send gooogle username and password\n",
    "# driver.find_elements('xpath', '//input[@type=\"email\"]')[0].send_keys(USERNAME)\n",
    "# driver.find_elements('xpath', '//*[@id=\"identifierNext\"]')[0].click()\n",
    "# time.sleep(2)\n",
    "\n",
    "# driver.find_elements('xpath', '//input[@type=\"password\"]')[0].send_keys(PASSWORD)\n",
    "# driver.find_elements('xpath', '//*[@id=\"passwordNext\"]')[0].click()\n",
    "# time.sleep(2)"
   ]
  },
  {
   "cell_type": "code",
   "execution_count": null,
   "metadata": {},
   "outputs": [],
   "source": [
    "# driver.execute_script('''window.open(\"https://www.medifind.com/\",\"_blank\");''')\n"
   ]
  },
  {
   "cell_type": "code",
   "execution_count": 52,
   "metadata": {},
   "outputs": [],
   "source": [
    "driver.get(\"https://www.medifind.com/\")"
   ]
  },
  {
   "cell_type": "code",
   "execution_count": 53,
   "metadata": {},
   "outputs": [],
   "source": [
    "the_xpath = \"//button[contains(@id, 'toggle-profile')]\"\n",
    "profile_button = driver.find_element(\"xpath\", the_xpath)\n",
    "                              \n",
    "profile_button.click()"
   ]
  },
  {
   "cell_type": "code",
   "execution_count": 54,
   "metadata": {},
   "outputs": [],
   "source": [
    "driver.find_elements('xpath', '//input[@type=\"email\"]')[0].send_keys(MEDIFIND_USERNAME)\n",
    "time.sleep(2)"
   ]
  },
  {
   "cell_type": "code",
   "execution_count": 55,
   "metadata": {},
   "outputs": [],
   "source": [
    "driver.find_elements('xpath', '//input[@type=\"password\"]')[0].send_keys(MEDIFIND_PASSWORD)\n",
    "time.sleep(2)"
   ]
  },
  {
   "cell_type": "code",
   "execution_count": 56,
   "metadata": {},
   "outputs": [],
   "source": [
    "the_xpath = \"//button[text()='Log In']\"\n",
    "log_in_button = driver.find_element(\"xpath\", the_xpath)\n",
    "# now we logged on, so now we can navigate search results without limitation\n",
    "log_in_button.click()"
   ]
  },
  {
   "cell_type": "code",
   "execution_count": 57,
   "metadata": {},
   "outputs": [],
   "source": [
    "# clear location if we need to do it\n",
    "the_xpath='//div[contains(@class,\"Landing_form-input__5H2Lm\")]//button'\n",
    "location_buttons = driver.find_elements('xpath', the_xpath)\n",
    "\n",
    "# bc we have 2 buttons in location form input but sometimes we have just 1 \n",
    "# (just the location button and not the x button)\n",
    "if len(location_buttons) == 2:\n",
    "    location_buttons[0].click()\n",
    "    time.sleep(2)\n"
   ]
  },
  {
   "cell_type": "code",
   "execution_count": 72,
   "metadata": {},
   "outputs": [],
   "source": [
    "location_inputs = driver.find_element('xpath', '//input[@id=\"ac-location-filter\"]')\n",
    "location_inputs.send_keys(location)\n",
    "time.sleep(2)\n",
    "\n"
   ]
  },
  {
   "cell_type": "code",
   "execution_count": 70,
   "metadata": {},
   "outputs": [
    {
     "ename": "IndexError",
     "evalue": "list index out of range",
     "output_type": "error",
     "traceback": [
      "\u001b[0;31m---------------------------------------------------------------------------\u001b[0m",
      "\u001b[0;31mIndexError\u001b[0m                                Traceback (most recent call last)",
      "Cell \u001b[0;32mIn[70], line 12\u001b[0m\n\u001b[1;32m      9\u001b[0m         chosen_index \u001b[39m=\u001b[39m i\n\u001b[1;32m     10\u001b[0m         \u001b[39mbreak\u001b[39;00m\n\u001b[0;32m---> 12\u001b[0m location_search_results[i]\u001b[39m.\u001b[39mclick()\n\u001b[1;32m     13\u001b[0m time\u001b[39m.\u001b[39msleep(\u001b[39m2\u001b[39m)\n",
      "\u001b[0;31mIndexError\u001b[0m: list index out of range"
     ]
    }
   ],
   "source": [
    "# this works and gets past the search button not working, \n",
    "the_xpath = '//ul[contains(@class,\"Autocomplete-Select_menu-list__mETH4 Autocomplete-Select_open__ZUDjv\")]//li'\n",
    "\n",
    "location_search_results = driver.find_elements(\"xpath\", the_xpath)\n",
    "\n",
    "for i, location_search_result in enumerate(location_search_results):\n",
    "    location_search_result_text = BeautifulSoup(location_search_result.get_attribute(\"innerHTML\"), 'html.parser').text\n",
    "    if location_search_result_text == location:\n",
    "        chosen_index = i\n",
    "        break\n",
    "\n",
    "location_search_results[i].click()\n",
    "time.sleep(2)\n"
   ]
  },
  {
   "cell_type": "code",
   "execution_count": 73,
   "metadata": {},
   "outputs": [],
   "source": [
    "# Set search param\n",
    "\n",
    "search_param = driver.find_element('xpath', '//input[@id=\"find-a-doctor-form-magic-filter\"]')\n",
    "\n",
    "search_param.send_keys(\"Neurofibromatosis\")\n",
    "time.sleep(2)"
   ]
  },
  {
   "cell_type": "code",
   "execution_count": 17,
   "metadata": {},
   "outputs": [],
   "source": [
    "# clicking search button does not seem to work\n",
    "# the_xpath = \"//div[contains(@class, 'Landing_form-container__HkCXt')]/button\"\n",
    "# search_button = driver.find_element(\"xpath\", the_xpath)\n",
    "# search_button.click()\n",
    "# time.sleep(2)"
   ]
  },
  {
   "cell_type": "code",
   "execution_count": null,
   "metadata": {},
   "outputs": [],
   "source": [
    "condition = \"Malignant Neurofibroma also known as Malignant Peripheral Nerve Sheath Tumor\""
   ]
  },
  {
   "cell_type": "code",
   "execution_count": 67,
   "metadata": {},
   "outputs": [],
   "source": [
    "# this works and gets past the search button not working\n",
    "the_xpath = '//ul[contains(@class,\"Autocomplete-Select_menu-list__mETH4 Autocomplete-Select_open__ZUDjv\")]//li'\n",
    "\n",
    "search_results = driver.find_elements(\"xpath\", the_xpath)\n",
    "\n",
    "for i, search_result in enumerate(search_results):\n",
    "    search_result_text = BeautifulSoup(search_result.get_attribute(\"innerHTML\"), 'html.parser').text\n",
    "    if search_result_text == condition:\n",
    "        chosen_index = i\n",
    "        break\n",
    "\n",
    "search_results[i].click()\n",
    "time.sleep(2)\n"
   ]
  },
  {
   "cell_type": "code",
   "execution_count": 21,
   "metadata": {},
   "outputs": [],
   "source": [
    "# scroll all the way down to get past lazy loading\n",
    "driver.execute_script(\"window.scrollTo(0, document.body.scrollHeight);\")\n"
   ]
  },
  {
   "cell_type": "code",
   "execution_count": 51,
   "metadata": {},
   "outputs": [],
   "source": [
    "# now get the urls of the doctor pages for every page\n",
    "\n",
    "the_xpath = '//div[contains(@class,\"DoctorCard_header__row__XFqB2\")]//a'\n",
    "doctor_urls = driver.find_elements(\"xpath\", the_xpath)"
   ]
  },
  {
   "cell_type": "code",
   "execution_count": 87,
   "metadata": {},
   "outputs": [
    {
     "data": {
      "text/html": [
       "<div>\n",
       "<style scoped>\n",
       "    .dataframe tbody tr th:only-of-type {\n",
       "        vertical-align: middle;\n",
       "    }\n",
       "\n",
       "    .dataframe tbody tr th {\n",
       "        vertical-align: top;\n",
       "    }\n",
       "\n",
       "    .dataframe thead th {\n",
       "        text-align: right;\n",
       "    }\n",
       "</style>\n",
       "<table border=\"1\" class=\"dataframe\">\n",
       "  <thead>\n",
       "    <tr style=\"text-align: right;\">\n",
       "      <th></th>\n",
       "      <th>url</th>\n",
       "      <th>condition</th>\n",
       "      <th>date</th>\n",
       "    </tr>\n",
       "  </thead>\n",
       "  <tbody>\n",
       "    <tr>\n",
       "      <th>0</th>\n",
       "      <td>https://www.medifind.com/conditions/neurofibro...</td>\n",
       "      <td>Neurofibromatosis</td>\n",
       "      <td>2023-02-27</td>\n",
       "    </tr>\n",
       "    <tr>\n",
       "      <th>1</th>\n",
       "      <td>https://www.medifind.com/conditions/neurofibro...</td>\n",
       "      <td>Neurofibromatosis</td>\n",
       "      <td>2023-02-27</td>\n",
       "    </tr>\n",
       "    <tr>\n",
       "      <th>2</th>\n",
       "      <td>https://www.medifind.com/conditions/neurofibro...</td>\n",
       "      <td>Neurofibromatosis</td>\n",
       "      <td>2023-02-27</td>\n",
       "    </tr>\n",
       "    <tr>\n",
       "      <th>3</th>\n",
       "      <td>https://www.medifind.com/conditions/neurofibro...</td>\n",
       "      <td>Neurofibromatosis</td>\n",
       "      <td>2023-02-27</td>\n",
       "    </tr>\n",
       "    <tr>\n",
       "      <th>4</th>\n",
       "      <td>https://www.medifind.com/conditions/neurofibro...</td>\n",
       "      <td>Neurofibromatosis</td>\n",
       "      <td>2023-02-27</td>\n",
       "    </tr>\n",
       "    <tr>\n",
       "      <th>5</th>\n",
       "      <td>https://www.medifind.com/conditions/neurofibro...</td>\n",
       "      <td>Neurofibromatosis</td>\n",
       "      <td>2023-02-27</td>\n",
       "    </tr>\n",
       "    <tr>\n",
       "      <th>6</th>\n",
       "      <td>https://www.medifind.com/conditions/neurofibro...</td>\n",
       "      <td>Neurofibromatosis</td>\n",
       "      <td>2023-02-27</td>\n",
       "    </tr>\n",
       "    <tr>\n",
       "      <th>7</th>\n",
       "      <td>https://www.medifind.com/conditions/neurofibro...</td>\n",
       "      <td>Neurofibromatosis</td>\n",
       "      <td>2023-02-27</td>\n",
       "    </tr>\n",
       "    <tr>\n",
       "      <th>8</th>\n",
       "      <td>https://www.medifind.com/conditions/neurofibro...</td>\n",
       "      <td>Neurofibromatosis</td>\n",
       "      <td>2023-02-27</td>\n",
       "    </tr>\n",
       "    <tr>\n",
       "      <th>9</th>\n",
       "      <td>https://www.medifind.com/conditions/neurofibro...</td>\n",
       "      <td>Neurofibromatosis</td>\n",
       "      <td>2023-02-27</td>\n",
       "    </tr>\n",
       "    <tr>\n",
       "      <th>10</th>\n",
       "      <td>https://www.medifind.com/conditions/neurofibro...</td>\n",
       "      <td>Neurofibromatosis</td>\n",
       "      <td>2023-02-27</td>\n",
       "    </tr>\n",
       "    <tr>\n",
       "      <th>11</th>\n",
       "      <td>https://www.medifind.com/conditions/neurofibro...</td>\n",
       "      <td>Neurofibromatosis</td>\n",
       "      <td>2023-02-27</td>\n",
       "    </tr>\n",
       "    <tr>\n",
       "      <th>12</th>\n",
       "      <td>https://www.medifind.com/conditions/neurofibro...</td>\n",
       "      <td>Neurofibromatosis</td>\n",
       "      <td>2023-02-27</td>\n",
       "    </tr>\n",
       "    <tr>\n",
       "      <th>13</th>\n",
       "      <td>https://www.medifind.com/conditions/neurofibro...</td>\n",
       "      <td>Neurofibromatosis</td>\n",
       "      <td>2023-02-27</td>\n",
       "    </tr>\n",
       "    <tr>\n",
       "      <th>14</th>\n",
       "      <td>https://www.medifind.com/conditions/neurofibro...</td>\n",
       "      <td>Neurofibromatosis</td>\n",
       "      <td>2023-02-27</td>\n",
       "    </tr>\n",
       "    <tr>\n",
       "      <th>15</th>\n",
       "      <td>https://www.medifind.com/conditions/neurofibro...</td>\n",
       "      <td>Neurofibromatosis</td>\n",
       "      <td>2023-02-27</td>\n",
       "    </tr>\n",
       "    <tr>\n",
       "      <th>16</th>\n",
       "      <td>https://www.medifind.com/conditions/neurofibro...</td>\n",
       "      <td>Neurofibromatosis</td>\n",
       "      <td>2023-02-27</td>\n",
       "    </tr>\n",
       "    <tr>\n",
       "      <th>17</th>\n",
       "      <td>https://www.medifind.com/conditions/neurofibro...</td>\n",
       "      <td>Neurofibromatosis</td>\n",
       "      <td>2023-02-27</td>\n",
       "    </tr>\n",
       "    <tr>\n",
       "      <th>18</th>\n",
       "      <td>https://www.medifind.com/conditions/neurofibro...</td>\n",
       "      <td>Neurofibromatosis</td>\n",
       "      <td>2023-02-27</td>\n",
       "    </tr>\n",
       "    <tr>\n",
       "      <th>19</th>\n",
       "      <td>https://www.medifind.com/conditions/neurofibro...</td>\n",
       "      <td>Neurofibromatosis</td>\n",
       "      <td>2023-02-27</td>\n",
       "    </tr>\n",
       "  </tbody>\n",
       "</table>\n",
       "</div>"
      ],
      "text/plain": [
       "                                                  url          condition  \\\n",
       "0   https://www.medifind.com/conditions/neurofibro...  Neurofibromatosis   \n",
       "1   https://www.medifind.com/conditions/neurofibro...  Neurofibromatosis   \n",
       "2   https://www.medifind.com/conditions/neurofibro...  Neurofibromatosis   \n",
       "3   https://www.medifind.com/conditions/neurofibro...  Neurofibromatosis   \n",
       "4   https://www.medifind.com/conditions/neurofibro...  Neurofibromatosis   \n",
       "5   https://www.medifind.com/conditions/neurofibro...  Neurofibromatosis   \n",
       "6   https://www.medifind.com/conditions/neurofibro...  Neurofibromatosis   \n",
       "7   https://www.medifind.com/conditions/neurofibro...  Neurofibromatosis   \n",
       "8   https://www.medifind.com/conditions/neurofibro...  Neurofibromatosis   \n",
       "9   https://www.medifind.com/conditions/neurofibro...  Neurofibromatosis   \n",
       "10  https://www.medifind.com/conditions/neurofibro...  Neurofibromatosis   \n",
       "11  https://www.medifind.com/conditions/neurofibro...  Neurofibromatosis   \n",
       "12  https://www.medifind.com/conditions/neurofibro...  Neurofibromatosis   \n",
       "13  https://www.medifind.com/conditions/neurofibro...  Neurofibromatosis   \n",
       "14  https://www.medifind.com/conditions/neurofibro...  Neurofibromatosis   \n",
       "15  https://www.medifind.com/conditions/neurofibro...  Neurofibromatosis   \n",
       "16  https://www.medifind.com/conditions/neurofibro...  Neurofibromatosis   \n",
       "17  https://www.medifind.com/conditions/neurofibro...  Neurofibromatosis   \n",
       "18  https://www.medifind.com/conditions/neurofibro...  Neurofibromatosis   \n",
       "19  https://www.medifind.com/conditions/neurofibro...  Neurofibromatosis   \n",
       "\n",
       "          date  \n",
       "0   2023-02-27  \n",
       "1   2023-02-27  \n",
       "2   2023-02-27  \n",
       "3   2023-02-27  \n",
       "4   2023-02-27  \n",
       "5   2023-02-27  \n",
       "6   2023-02-27  \n",
       "7   2023-02-27  \n",
       "8   2023-02-27  \n",
       "9   2023-02-27  \n",
       "10  2023-02-27  \n",
       "11  2023-02-27  \n",
       "12  2023-02-27  \n",
       "13  2023-02-27  \n",
       "14  2023-02-27  \n",
       "15  2023-02-27  \n",
       "16  2023-02-27  \n",
       "17  2023-02-27  \n",
       "18  2023-02-27  \n",
       "19  2023-02-27  "
      ]
     },
     "execution_count": 87,
     "metadata": {},
     "output_type": "execute_result"
    }
   ],
   "source": [
    "provider_urls_df"
   ]
  },
  {
   "cell_type": "code",
   "execution_count": 16,
   "metadata": {},
   "outputs": [],
   "source": [
    "# the_xpath= '//div[contains(@class,\"Grid_pagination__UppHL Grid_wide-layout__ICdKZ\")]//button'\n",
    "the_xpath = '//span[text()=\"Next\"]/ancestor::button'\n",
    "next_button = driver.find_element(\"xpath\", the_xpath)\n",
    "\n",
    "# print(next_button)\n",
    "next_button.click()\n",
    "# time.sleep(2)\n",
    "\n"
   ]
  },
  {
   "cell_type": "code",
   "execution_count": 17,
   "metadata": {},
   "outputs": [
    {
     "name": "stdout",
     "output_type": "stream",
     "text": [
      "<selenium.webdriver.remote.webelement.WebElement (session=\"4870658bc0f7f8c06690a09947aff72f\", element=\"f5617440-e6a3-4c66-9075-9ca9a38470c0\")>\n"
     ]
    }
   ],
   "source": [
    "print(next_button)"
   ]
  },
  {
   "cell_type": "code",
   "execution_count": 24,
   "metadata": {},
   "outputs": [],
   "source": [
    "provider_urls_df = pd.DataFrame({\"url\": [], \"condition\": [], \"date\":[]})\n",
    "\n",
    "def append_to_url_df(df: pd.DataFrame, doctors_set: set):\n",
    "    tmp = pd.DataFrame({\"url\": list(doctors_set), \"condition\": [condition]*len(doctors_set), \"date\":[date.today()]*len(doctors_set)})\n",
    "    df = pd.concat([df, tmp], ignore_index=True)\n",
    "    return df\n",
    "\n",
    "today = date.today()"
   ]
  },
  {
   "cell_type": "code",
   "execution_count": 26,
   "metadata": {},
   "outputs": [
    {
     "ename": "WebDriverException",
     "evalue": "Message: disconnected: not connected to DevTools\n  (failed to check if window was closed: disconnected: not connected to DevTools)\n  (Session info: chrome=110.0.5481.177)\nStacktrace:\n0   chromedriver                        0x0000000102724138 chromedriver + 4923704\n1   chromedriver                        0x000000010269c9d3 chromedriver + 4368851\n2   chromedriver                        0x00000001022e5787 chromedriver + 472967\n3   chromedriver                        0x00000001022ccbaf chromedriver + 371631\n4   chromedriver                        0x00000001022cc933 chromedriver + 370995\n5   chromedriver                        0x00000001022e7392 chromedriver + 480146\n6   chromedriver                        0x000000010236d31f chromedriver + 1028895\n7   chromedriver                        0x0000000102352d23 chromedriver + 920867\n8   chromedriver                        0x0000000102319a4b chromedriver + 686667\n9   chromedriver                        0x000000010231b044 chromedriver + 692292\n10  chromedriver                        0x00000001026ef8fe chromedriver + 4708606\n11  chromedriver                        0x00000001026f4e22 chromedriver + 4730402\n12  chromedriver                        0x00000001026fd6bf chromedriver + 4765375\n13  chromedriver                        0x00000001026f5e80 chromedriver + 4734592\n14  chromedriver                        0x00000001026c6975 chromedriver + 4540789\n15  chromedriver                        0x0000000102717e78 chromedriver + 4873848\n16  chromedriver                        0x0000000102717ff5 chromedriver + 4874229\n17  chromedriver                        0x000000010272c6de chromedriver + 4957918\n18  libsystem_pthread.dylib             0x00007ff80ee5d4e1 _pthread_start + 125\n19  libsystem_pthread.dylib             0x00007ff80ee58f6b thread_start + 15\n",
     "output_type": "error",
     "traceback": [
      "\u001b[0;31m---------------------------------------------------------------------------\u001b[0m",
      "\u001b[0;31mWebDriverException\u001b[0m                        Traceback (most recent call last)",
      "Cell \u001b[0;32mIn[26], line 1\u001b[0m\n\u001b[0;32m----> 1\u001b[0m driver\u001b[39m.\u001b[39;49mexecute_script(\u001b[39m\"\u001b[39;49m\u001b[39mwindow.scrollTo(0, document.body.scrollHeight);\u001b[39;49m\u001b[39m\"\u001b[39;49m)\n",
      "File \u001b[0;32m~/.pyenv/versions/3.10.3/envs/pl_dev_1/lib/python3.10/site-packages/selenium/webdriver/remote/webdriver.py:500\u001b[0m, in \u001b[0;36mWebDriver.execute_script\u001b[0;34m(self, script, *args)\u001b[0m\n\u001b[1;32m    497\u001b[0m converted_args \u001b[39m=\u001b[39m \u001b[39mlist\u001b[39m(args)\n\u001b[1;32m    498\u001b[0m command \u001b[39m=\u001b[39m Command\u001b[39m.\u001b[39mW3C_EXECUTE_SCRIPT\n\u001b[0;32m--> 500\u001b[0m \u001b[39mreturn\u001b[39;00m \u001b[39mself\u001b[39;49m\u001b[39m.\u001b[39;49mexecute(command, {\u001b[39m\"\u001b[39;49m\u001b[39mscript\u001b[39;49m\u001b[39m\"\u001b[39;49m: script, \u001b[39m\"\u001b[39;49m\u001b[39margs\u001b[39;49m\u001b[39m\"\u001b[39;49m: converted_args})[\u001b[39m\"\u001b[39m\u001b[39mvalue\u001b[39m\u001b[39m\"\u001b[39m]\n",
      "File \u001b[0;32m~/.pyenv/versions/3.10.3/envs/pl_dev_1/lib/python3.10/site-packages/selenium/webdriver/remote/webdriver.py:440\u001b[0m, in \u001b[0;36mWebDriver.execute\u001b[0;34m(self, driver_command, params)\u001b[0m\n\u001b[1;32m    438\u001b[0m response \u001b[39m=\u001b[39m \u001b[39mself\u001b[39m\u001b[39m.\u001b[39mcommand_executor\u001b[39m.\u001b[39mexecute(driver_command, params)\n\u001b[1;32m    439\u001b[0m \u001b[39mif\u001b[39;00m response:\n\u001b[0;32m--> 440\u001b[0m     \u001b[39mself\u001b[39;49m\u001b[39m.\u001b[39;49merror_handler\u001b[39m.\u001b[39;49mcheck_response(response)\n\u001b[1;32m    441\u001b[0m     response[\u001b[39m\"\u001b[39m\u001b[39mvalue\u001b[39m\u001b[39m\"\u001b[39m] \u001b[39m=\u001b[39m \u001b[39mself\u001b[39m\u001b[39m.\u001b[39m_unwrap_value(response\u001b[39m.\u001b[39mget(\u001b[39m\"\u001b[39m\u001b[39mvalue\u001b[39m\u001b[39m\"\u001b[39m, \u001b[39mNone\u001b[39;00m))\n\u001b[1;32m    442\u001b[0m     \u001b[39mreturn\u001b[39;00m response\n",
      "File \u001b[0;32m~/.pyenv/versions/3.10.3/envs/pl_dev_1/lib/python3.10/site-packages/selenium/webdriver/remote/errorhandler.py:245\u001b[0m, in \u001b[0;36mErrorHandler.check_response\u001b[0;34m(self, response)\u001b[0m\n\u001b[1;32m    243\u001b[0m         alert_text \u001b[39m=\u001b[39m value[\u001b[39m\"\u001b[39m\u001b[39malert\u001b[39m\u001b[39m\"\u001b[39m]\u001b[39m.\u001b[39mget(\u001b[39m\"\u001b[39m\u001b[39mtext\u001b[39m\u001b[39m\"\u001b[39m)\n\u001b[1;32m    244\u001b[0m     \u001b[39mraise\u001b[39;00m exception_class(message, screen, stacktrace, alert_text)  \u001b[39m# type: ignore[call-arg]  # mypy is not smart enough here\u001b[39;00m\n\u001b[0;32m--> 245\u001b[0m \u001b[39mraise\u001b[39;00m exception_class(message, screen, stacktrace)\n",
      "\u001b[0;31mWebDriverException\u001b[0m: Message: disconnected: not connected to DevTools\n  (failed to check if window was closed: disconnected: not connected to DevTools)\n  (Session info: chrome=110.0.5481.177)\nStacktrace:\n0   chromedriver                        0x0000000102724138 chromedriver + 4923704\n1   chromedriver                        0x000000010269c9d3 chromedriver + 4368851\n2   chromedriver                        0x00000001022e5787 chromedriver + 472967\n3   chromedriver                        0x00000001022ccbaf chromedriver + 371631\n4   chromedriver                        0x00000001022cc933 chromedriver + 370995\n5   chromedriver                        0x00000001022e7392 chromedriver + 480146\n6   chromedriver                        0x000000010236d31f chromedriver + 1028895\n7   chromedriver                        0x0000000102352d23 chromedriver + 920867\n8   chromedriver                        0x0000000102319a4b chromedriver + 686667\n9   chromedriver                        0x000000010231b044 chromedriver + 692292\n10  chromedriver                        0x00000001026ef8fe chromedriver + 4708606\n11  chromedriver                        0x00000001026f4e22 chromedriver + 4730402\n12  chromedriver                        0x00000001026fd6bf chromedriver + 4765375\n13  chromedriver                        0x00000001026f5e80 chromedriver + 4734592\n14  chromedriver                        0x00000001026c6975 chromedriver + 4540789\n15  chromedriver                        0x0000000102717e78 chromedriver + 4873848\n16  chromedriver                        0x0000000102717ff5 chromedriver + 4874229\n17  chromedriver                        0x000000010272c6de chromedriver + 4957918\n18  libsystem_pthread.dylib             0x00007ff80ee5d4e1 _pthread_start + 125\n19  libsystem_pthread.dylib             0x00007ff80ee58f6b thread_start + 15\n"
     ]
    }
   ],
   "source": [
    "driver.execute_script(\"window.scrollTo(0, document.body.scrollHeight);\")"
   ]
  },
  {
   "cell_type": "code",
   "execution_count": 25,
   "metadata": {},
   "outputs": [
    {
     "name": "stdout",
     "output_type": "stream",
     "text": [
      "Shape of df: (20, 3)\n",
      "Shape of df: (40, 3)\n",
      "Shape of df: (61, 3)\n",
      "Shape of df: (81, 3)\n",
      "Shape of df: (101, 3)\n",
      "Shape of df: (122, 3)\n",
      "Shape of df: (142, 3)\n",
      "Shape of df: (163, 3)\n",
      "Shape of df: (184, 3)\n",
      "Shape of df: (204, 3)\n",
      "Shape of df: (224, 3)\n",
      "Shape of df: (244, 3)\n",
      "Shape of df: (264, 3)\n",
      "Shape of df: (284, 3)\n",
      "Shape of df: (304, 3)\n",
      "Shape of df: (327, 3)\n",
      "Shape of df: (347, 3)\n",
      "Shape of df: (367, 3)\n",
      "Shape of df: (387, 3)\n",
      "Shape of df: (407, 3)\n",
      "Shape of df: (427, 3)\n",
      "Shape of df: (447, 3)\n",
      "Shape of df: (467, 3)\n",
      "Shape of df: (487, 3)\n",
      "Shape of df: (507, 3)\n",
      "Shape of df: (527, 3)\n",
      "Shape of df: (548, 3)\n",
      "Shape of df: (569, 3)\n",
      "Shape of df: (589, 3)\n",
      "Shape of df: (609, 3)\n",
      "Shape of df: (631, 3)\n",
      "Shape of df: (651, 3)\n",
      "Shape of df: (671, 3)\n",
      "Shape of df: (692, 3)\n",
      "Shape of df: (712, 3)\n",
      "Shape of df: (732, 3)\n",
      "Shape of df: (752, 3)\n",
      "Shape of df: (772, 3)\n",
      "Shape of df: (793, 3)\n",
      "Shape of df: (813, 3)\n",
      "Shape of df: (833, 3)\n",
      "Shape of df: (853, 3)\n",
      "Shape of df: (873, 3)\n",
      "Shape of df: (893, 3)\n",
      "Shape of df: (915, 3)\n",
      "Shape of df: (935, 3)\n",
      "Shape of df: (956, 3)\n",
      "Shape of df: (976, 3)\n",
      "Shape of df: (996, 3)\n",
      "Shape of df: (1016, 3)\n",
      "Shape of df: (1036, 3)\n",
      "Shape of df: (1056, 3)\n"
     ]
    },
    {
     "ename": "WebDriverException",
     "evalue": "Message: disconnected: not connected to DevTools\n  (failed to check if window was closed: disconnected: not connected to DevTools)\n  (Session info: chrome=110.0.5481.177)\nStacktrace:\n0   chromedriver                        0x0000000102724138 chromedriver + 4923704\n1   chromedriver                        0x000000010269c9d3 chromedriver + 4368851\n2   chromedriver                        0x00000001022e5787 chromedriver + 472967\n3   chromedriver                        0x00000001022ccbaf chromedriver + 371631\n4   chromedriver                        0x00000001022cc933 chromedriver + 370995\n5   chromedriver                        0x00000001022e7392 chromedriver + 480146\n6   chromedriver                        0x000000010236d31f chromedriver + 1028895\n7   chromedriver                        0x0000000102352d23 chromedriver + 920867\n8   chromedriver                        0x0000000102319a4b chromedriver + 686667\n9   chromedriver                        0x000000010231b044 chromedriver + 692292\n10  chromedriver                        0x00000001026ef8fe chromedriver + 4708606\n11  chromedriver                        0x00000001026f4e22 chromedriver + 4730402\n12  chromedriver                        0x00000001026fd6bf chromedriver + 4765375\n13  chromedriver                        0x00000001026f5e80 chromedriver + 4734592\n14  chromedriver                        0x00000001026c6975 chromedriver + 4540789\n15  chromedriver                        0x0000000102717e78 chromedriver + 4873848\n16  chromedriver                        0x0000000102717ff5 chromedriver + 4874229\n17  chromedriver                        0x000000010272c6de chromedriver + 4957918\n18  libsystem_pthread.dylib             0x00007ff80ee5d4e1 _pthread_start + 125\n19  libsystem_pthread.dylib             0x00007ff80ee58f6b thread_start + 15\n",
     "output_type": "error",
     "traceback": [
      "\u001b[0;31m---------------------------------------------------------------------------\u001b[0m",
      "\u001b[0;31mWebDriverException\u001b[0m                        Traceback (most recent call last)",
      "Cell \u001b[0;32mIn[25], line 3\u001b[0m\n\u001b[1;32m      1\u001b[0m \u001b[39mwhile\u001b[39;00m \u001b[39mTrue\u001b[39;00m:\n\u001b[1;32m      2\u001b[0m     \u001b[39m# scroll all the way down to get past lazy loading\u001b[39;00m\n\u001b[0;32m----> 3\u001b[0m     driver\u001b[39m.\u001b[39;49mexecute_script(\u001b[39m\"\u001b[39;49m\u001b[39mwindow.scrollTo(0, document.body.scrollHeight);\u001b[39;49m\u001b[39m\"\u001b[39;49m)\n\u001b[1;32m      5\u001b[0m     \u001b[39m# now get the urls of the doctor pages for every page\u001b[39;00m\n\u001b[1;32m      6\u001b[0m     the_xpath \u001b[39m=\u001b[39m \u001b[39m'\u001b[39m\u001b[39m//div[contains(@class,\u001b[39m\u001b[39m\"\u001b[39m\u001b[39mDoctorCard_header__row__XFqB2\u001b[39m\u001b[39m\"\u001b[39m\u001b[39m)]//a\u001b[39m\u001b[39m'\u001b[39m\n",
      "File \u001b[0;32m~/.pyenv/versions/3.10.3/envs/pl_dev_1/lib/python3.10/site-packages/selenium/webdriver/remote/webdriver.py:500\u001b[0m, in \u001b[0;36mWebDriver.execute_script\u001b[0;34m(self, script, *args)\u001b[0m\n\u001b[1;32m    497\u001b[0m converted_args \u001b[39m=\u001b[39m \u001b[39mlist\u001b[39m(args)\n\u001b[1;32m    498\u001b[0m command \u001b[39m=\u001b[39m Command\u001b[39m.\u001b[39mW3C_EXECUTE_SCRIPT\n\u001b[0;32m--> 500\u001b[0m \u001b[39mreturn\u001b[39;00m \u001b[39mself\u001b[39;49m\u001b[39m.\u001b[39;49mexecute(command, {\u001b[39m\"\u001b[39;49m\u001b[39mscript\u001b[39;49m\u001b[39m\"\u001b[39;49m: script, \u001b[39m\"\u001b[39;49m\u001b[39margs\u001b[39;49m\u001b[39m\"\u001b[39;49m: converted_args})[\u001b[39m\"\u001b[39m\u001b[39mvalue\u001b[39m\u001b[39m\"\u001b[39m]\n",
      "File \u001b[0;32m~/.pyenv/versions/3.10.3/envs/pl_dev_1/lib/python3.10/site-packages/selenium/webdriver/remote/webdriver.py:440\u001b[0m, in \u001b[0;36mWebDriver.execute\u001b[0;34m(self, driver_command, params)\u001b[0m\n\u001b[1;32m    438\u001b[0m response \u001b[39m=\u001b[39m \u001b[39mself\u001b[39m\u001b[39m.\u001b[39mcommand_executor\u001b[39m.\u001b[39mexecute(driver_command, params)\n\u001b[1;32m    439\u001b[0m \u001b[39mif\u001b[39;00m response:\n\u001b[0;32m--> 440\u001b[0m     \u001b[39mself\u001b[39;49m\u001b[39m.\u001b[39;49merror_handler\u001b[39m.\u001b[39;49mcheck_response(response)\n\u001b[1;32m    441\u001b[0m     response[\u001b[39m\"\u001b[39m\u001b[39mvalue\u001b[39m\u001b[39m\"\u001b[39m] \u001b[39m=\u001b[39m \u001b[39mself\u001b[39m\u001b[39m.\u001b[39m_unwrap_value(response\u001b[39m.\u001b[39mget(\u001b[39m\"\u001b[39m\u001b[39mvalue\u001b[39m\u001b[39m\"\u001b[39m, \u001b[39mNone\u001b[39;00m))\n\u001b[1;32m    442\u001b[0m     \u001b[39mreturn\u001b[39;00m response\n",
      "File \u001b[0;32m~/.pyenv/versions/3.10.3/envs/pl_dev_1/lib/python3.10/site-packages/selenium/webdriver/remote/errorhandler.py:245\u001b[0m, in \u001b[0;36mErrorHandler.check_response\u001b[0;34m(self, response)\u001b[0m\n\u001b[1;32m    243\u001b[0m         alert_text \u001b[39m=\u001b[39m value[\u001b[39m\"\u001b[39m\u001b[39malert\u001b[39m\u001b[39m\"\u001b[39m]\u001b[39m.\u001b[39mget(\u001b[39m\"\u001b[39m\u001b[39mtext\u001b[39m\u001b[39m\"\u001b[39m)\n\u001b[1;32m    244\u001b[0m     \u001b[39mraise\u001b[39;00m exception_class(message, screen, stacktrace, alert_text)  \u001b[39m# type: ignore[call-arg]  # mypy is not smart enough here\u001b[39;00m\n\u001b[0;32m--> 245\u001b[0m \u001b[39mraise\u001b[39;00m exception_class(message, screen, stacktrace)\n",
      "\u001b[0;31mWebDriverException\u001b[0m: Message: disconnected: not connected to DevTools\n  (failed to check if window was closed: disconnected: not connected to DevTools)\n  (Session info: chrome=110.0.5481.177)\nStacktrace:\n0   chromedriver                        0x0000000102724138 chromedriver + 4923704\n1   chromedriver                        0x000000010269c9d3 chromedriver + 4368851\n2   chromedriver                        0x00000001022e5787 chromedriver + 472967\n3   chromedriver                        0x00000001022ccbaf chromedriver + 371631\n4   chromedriver                        0x00000001022cc933 chromedriver + 370995\n5   chromedriver                        0x00000001022e7392 chromedriver + 480146\n6   chromedriver                        0x000000010236d31f chromedriver + 1028895\n7   chromedriver                        0x0000000102352d23 chromedriver + 920867\n8   chromedriver                        0x0000000102319a4b chromedriver + 686667\n9   chromedriver                        0x000000010231b044 chromedriver + 692292\n10  chromedriver                        0x00000001026ef8fe chromedriver + 4708606\n11  chromedriver                        0x00000001026f4e22 chromedriver + 4730402\n12  chromedriver                        0x00000001026fd6bf chromedriver + 4765375\n13  chromedriver                        0x00000001026f5e80 chromedriver + 4734592\n14  chromedriver                        0x00000001026c6975 chromedriver + 4540789\n15  chromedriver                        0x0000000102717e78 chromedriver + 4873848\n16  chromedriver                        0x0000000102717ff5 chromedriver + 4874229\n17  chromedriver                        0x000000010272c6de chromedriver + 4957918\n18  libsystem_pthread.dylib             0x00007ff80ee5d4e1 _pthread_start + 125\n19  libsystem_pthread.dylib             0x00007ff80ee58f6b thread_start + 15\n"
     ]
    }
   ],
   "source": [
    "while True:\n",
    "    # scroll all the way down to get past lazy loading\n",
    "    driver.execute_script(\"window.scrollTo(0, document.body.scrollHeight);\")\n",
    "\n",
    "    # now get the urls of the doctor pages for every page\n",
    "    the_xpath = '//div[contains(@class,\"DoctorCard_header__row__XFqB2\")]//a'\n",
    "    doctor_urls = driver.find_elements(\"xpath\", the_xpath)\n",
    "\n",
    "    doctor_urls_set = set()\n",
    "    for url in doctor_urls:\n",
    "        doctor_urls_set.add(url.get_attribute(\"href\"))\n",
    "    \n",
    "    provider_urls_df = append_to_url_df(df = provider_urls_df, doctors_set = doctor_urls_set)\n",
    "\n",
    "    print(f\"Shape of df: {provider_urls_df.shape}\")\n",
    "\n",
    "    # try navigating to next page\n",
    "    try:\n",
    "        the_xpath = '//span[text()=\"Next\"]/ancestor::button'\n",
    "        next_button = driver.find_element(\"xpath\", the_xpath)\n",
    "        next_button.click()\n",
    "        time.sleep(15)\n",
    "    except:\n",
    "        print(\"Either we have no more pages or something else went wrong\")\n",
    "        break\n",
    "    "
   ]
  },
  {
   "cell_type": "code",
   "execution_count": 91,
   "metadata": {},
   "outputs": [
    {
     "name": "stdout",
     "output_type": "stream",
     "text": [
      "120\n",
      "40\n"
     ]
    }
   ],
   "source": [
    "print(provider_urls_df.shape[0])\n",
    "\n",
    "print(provider_urls_df.url.nunique())"
   ]
  },
  {
   "cell_type": "code",
   "execution_count": null,
   "metadata": {},
   "outputs": [],
   "source": [
    "driver.quit()"
   ]
  },
  {
   "cell_type": "code",
   "execution_count": 29,
   "metadata": {},
   "outputs": [],
   "source": [
    "provider_urls_df.to_csv(\"data/medifind_providers_v1.csv\", index = None)"
   ]
  },
  {
   "cell_type": "code",
   "execution_count": 30,
   "metadata": {},
   "outputs": [],
   "source": [
    "provider_urls_df.to_excel(\"data/medifind_providers_v1.xlsx\")"
   ]
  },
  {
   "attachments": {},
   "cell_type": "markdown",
   "metadata": {},
   "source": [
    "# Debugging script"
   ]
  },
  {
   "cell_type": "code",
   "execution_count": 1,
   "metadata": {},
   "outputs": [
    {
     "ename": "WebDriverException",
     "evalue": "Message: unknown error: cannot connect to chrome at 127.0.0.1:6048\nfrom session not created: This version of ChromeDriver only supports Chrome version 113\nCurrent browser version is 115.0.5790.102\nStacktrace:\nBacktrace:\n\tGetHandleVerifier [0x004E8893+48451]\n\t(No symbol) [0x0047B8A1]\n\t(No symbol) [0x00385058]\n\t(No symbol) [0x003A5D9C]\n\t(No symbol) [0x003A0151]\n\t(No symbol) [0x0039FF31]\n\t(No symbol) [0x003D0798]\n\t(No symbol) [0x003D047C]\n\t(No symbol) [0x003CA0B6]\n\t(No symbol) [0x003A7E08]\n\t(No symbol) [0x003A8F2D]\n\tGetHandleVerifier [0x00748E3A+2540266]\n\tGetHandleVerifier [0x00788959+2801161]\n\tGetHandleVerifier [0x0078295C+2776588]\n\tGetHandleVerifier [0x00572280+612144]\n\t(No symbol) [0x00484F6C]\n\t(No symbol) [0x004811D8]\n\t(No symbol) [0x004812BB]\n\t(No symbol) [0x00474857]\n\tBaseThreadInitThunk [0x775500C9+25]\n\tRtlGetAppContainerNamedObjectPath [0x77777B1E+286]\n\tRtlGetAppContainerNamedObjectPath [0x77777AEE+238]\n",
     "output_type": "error",
     "traceback": [
      "\u001b[1;31m---------------------------------------------------------------------------\u001b[0m",
      "\u001b[1;31mWebDriverException\u001b[0m                        Traceback (most recent call last)",
      "\u001b[1;32m~\\AppData\\Local\\Temp\\ipykernel_3640\\3617993355.py\u001b[0m in \u001b[0;36m<module>\u001b[1;34m\u001b[0m\n\u001b[0;32m     45\u001b[0m \u001b[1;33m\u001b[0m\u001b[0m\n\u001b[0;32m     46\u001b[0m \u001b[1;31m# launch selenium, driver\u001b[0m\u001b[1;33m\u001b[0m\u001b[1;33m\u001b[0m\u001b[0m\n\u001b[1;32m---> 47\u001b[1;33m \u001b[0mdriver\u001b[0m \u001b[1;33m=\u001b[0m \u001b[0muc\u001b[0m\u001b[1;33m.\u001b[0m\u001b[0mChrome\u001b[0m\u001b[1;33m(\u001b[0m\u001b[0moptions\u001b[0m\u001b[1;33m=\u001b[0m\u001b[0moptions\u001b[0m\u001b[1;33m)\u001b[0m\u001b[1;33m\u001b[0m\u001b[0m\n\u001b[0m\u001b[0;32m     48\u001b[0m \u001b[0mtime\u001b[0m\u001b[1;33m.\u001b[0m\u001b[0msleep\u001b[0m\u001b[1;33m(\u001b[0m\u001b[1;36m2\u001b[0m\u001b[1;33m)\u001b[0m\u001b[1;33m\u001b[0m\u001b[0m\n\u001b[0;32m     49\u001b[0m \u001b[0mdriver\u001b[0m\u001b[1;33m.\u001b[0m\u001b[0mget\u001b[0m\u001b[1;33m(\u001b[0m\u001b[1;34m\"https://www.medifind.com/\"\u001b[0m\u001b[1;33m)\u001b[0m\u001b[1;33m\u001b[0m\u001b[0m\n",
      "\u001b[1;32mc:\\Users\\HP\\AppData\\Local\\Programs\\Python\\Python37\\lib\\site-packages\\undetected_chromedriver\\__init__.py\u001b[0m in \u001b[0;36m__init__\u001b[1;34m(self, options, user_data_dir, driver_executable_path, browser_executable_path, port, enable_cdp_events, service_args, service_creationflags, desired_capabilities, advanced_elements, service_log_path, keep_alive, log_level, headless, version_main, patcher_force_close, suppress_welcome, use_subprocess, debug, no_sandbox, user_multi_procs, **kw)\u001b[0m\n\u001b[0;32m    459\u001b[0m             \u001b[0mservice_log_path\u001b[0m\u001b[1;33m=\u001b[0m\u001b[0mservice_log_path\u001b[0m\u001b[1;33m,\u001b[0m\u001b[1;33m\u001b[0m\u001b[0m\n\u001b[0;32m    460\u001b[0m             \u001b[0mkeep_alive\u001b[0m\u001b[1;33m=\u001b[0m\u001b[0mkeep_alive\u001b[0m\u001b[1;33m,\u001b[0m\u001b[1;33m\u001b[0m\u001b[0m\n\u001b[1;32m--> 461\u001b[1;33m             \u001b[0mservice\u001b[0m\u001b[1;33m=\u001b[0m\u001b[0mservice\u001b[0m\u001b[1;33m,\u001b[0m  \u001b[1;31m# needed or the service will be re-created\u001b[0m\u001b[1;33m\u001b[0m\u001b[0m\n\u001b[0m\u001b[0;32m    462\u001b[0m         )\n\u001b[0;32m    463\u001b[0m \u001b[1;33m\u001b[0m\u001b[0m\n",
      "\u001b[1;32mc:\\Users\\HP\\AppData\\Local\\Programs\\Python\\Python37\\lib\\site-packages\\selenium\\webdriver\\chrome\\webdriver.py\u001b[0m in \u001b[0;36m__init__\u001b[1;34m(self, executable_path, port, options, service_args, desired_capabilities, service_log_path, chrome_options, service, keep_alive)\u001b[0m\n\u001b[0;32m     91\u001b[0m             \u001b[0mservice_log_path\u001b[0m\u001b[1;33m,\u001b[0m\u001b[1;33m\u001b[0m\u001b[0m\n\u001b[0;32m     92\u001b[0m             \u001b[0mservice\u001b[0m\u001b[1;33m,\u001b[0m\u001b[1;33m\u001b[0m\u001b[0m\n\u001b[1;32m---> 93\u001b[1;33m             \u001b[0mkeep_alive\u001b[0m\u001b[1;33m,\u001b[0m\u001b[1;33m\u001b[0m\u001b[0m\n\u001b[0m\u001b[0;32m     94\u001b[0m         )\n\u001b[0;32m     95\u001b[0m \u001b[1;33m\u001b[0m\u001b[0m\n",
      "\u001b[1;32mc:\\Users\\HP\\AppData\\Local\\Programs\\Python\\Python37\\lib\\site-packages\\selenium\\webdriver\\chromium\\webdriver.py\u001b[0m in \u001b[0;36m__init__\u001b[1;34m(self, browser_name, vendor_prefix, port, options, service_args, desired_capabilities, service_log_path, service, keep_alive)\u001b[0m\n\u001b[0;32m    110\u001b[0m                     \u001b[0mignore_proxy\u001b[0m\u001b[1;33m=\u001b[0m\u001b[0m_ignore_proxy\u001b[0m\u001b[1;33m,\u001b[0m\u001b[1;33m\u001b[0m\u001b[0m\n\u001b[0;32m    111\u001b[0m                 ),\n\u001b[1;32m--> 112\u001b[1;33m                 \u001b[0moptions\u001b[0m\u001b[1;33m=\u001b[0m\u001b[0moptions\u001b[0m\u001b[1;33m,\u001b[0m\u001b[1;33m\u001b[0m\u001b[0m\n\u001b[0m\u001b[0;32m    113\u001b[0m             )\n\u001b[0;32m    114\u001b[0m         \u001b[1;32mexcept\u001b[0m \u001b[0mException\u001b[0m\u001b[1;33m:\u001b[0m\u001b[1;33m\u001b[0m\u001b[0m\n",
      "\u001b[1;32mc:\\Users\\HP\\AppData\\Local\\Programs\\Python\\Python37\\lib\\site-packages\\selenium\\webdriver\\remote\\webdriver.py\u001b[0m in \u001b[0;36m__init__\u001b[1;34m(self, command_executor, desired_capabilities, browser_profile, proxy, keep_alive, file_detector, options)\u001b[0m\n\u001b[0;32m    284\u001b[0m         \u001b[0mself\u001b[0m\u001b[1;33m.\u001b[0m\u001b[0m_authenticator_id\u001b[0m \u001b[1;33m=\u001b[0m \u001b[1;32mNone\u001b[0m\u001b[1;33m\u001b[0m\u001b[0m\n\u001b[0;32m    285\u001b[0m         \u001b[0mself\u001b[0m\u001b[1;33m.\u001b[0m\u001b[0mstart_client\u001b[0m\u001b[1;33m(\u001b[0m\u001b[1;33m)\u001b[0m\u001b[1;33m\u001b[0m\u001b[0m\n\u001b[1;32m--> 286\u001b[1;33m         \u001b[0mself\u001b[0m\u001b[1;33m.\u001b[0m\u001b[0mstart_session\u001b[0m\u001b[1;33m(\u001b[0m\u001b[0mcapabilities\u001b[0m\u001b[1;33m,\u001b[0m \u001b[0mbrowser_profile\u001b[0m\u001b[1;33m)\u001b[0m\u001b[1;33m\u001b[0m\u001b[0m\n\u001b[0m\u001b[0;32m    287\u001b[0m \u001b[1;33m\u001b[0m\u001b[0m\n\u001b[0;32m    288\u001b[0m     \u001b[1;32mdef\u001b[0m \u001b[0m__repr__\u001b[0m\u001b[1;33m(\u001b[0m\u001b[0mself\u001b[0m\u001b[1;33m)\u001b[0m\u001b[1;33m:\u001b[0m\u001b[1;33m\u001b[0m\u001b[0m\n",
      "\u001b[1;32mc:\\Users\\HP\\AppData\\Local\\Programs\\Python\\Python37\\lib\\site-packages\\undetected_chromedriver\\__init__.py\u001b[0m in \u001b[0;36mstart_session\u001b[1;34m(self, capabilities, browser_profile)\u001b[0m\n\u001b[0;32m    715\u001b[0m             \u001b[0mcapabilities\u001b[0m \u001b[1;33m=\u001b[0m \u001b[0mself\u001b[0m\u001b[1;33m.\u001b[0m\u001b[0moptions\u001b[0m\u001b[1;33m.\u001b[0m\u001b[0mto_capabilities\u001b[0m\u001b[1;33m(\u001b[0m\u001b[1;33m)\u001b[0m\u001b[1;33m\u001b[0m\u001b[0m\n\u001b[0;32m    716\u001b[0m         super(selenium.webdriver.chrome.webdriver.WebDriver, self).start_session(\n\u001b[1;32m--> 717\u001b[1;33m             \u001b[0mcapabilities\u001b[0m\u001b[1;33m,\u001b[0m \u001b[0mbrowser_profile\u001b[0m\u001b[1;33m\u001b[0m\u001b[0m\n\u001b[0m\u001b[0;32m    718\u001b[0m         )\n\u001b[0;32m    719\u001b[0m         \u001b[1;31m# super(Chrome, self).start_session(capabilities, browser_profile)\u001b[0m\u001b[1;33m\u001b[0m\u001b[1;33m\u001b[0m\u001b[0m\n",
      "\u001b[1;32mc:\\Users\\HP\\AppData\\Local\\Programs\\Python\\Python37\\lib\\site-packages\\selenium\\webdriver\\remote\\webdriver.py\u001b[0m in \u001b[0;36mstart_session\u001b[1;34m(self, capabilities, browser_profile)\u001b[0m\n\u001b[0;32m    376\u001b[0m         \u001b[0mw3c_caps\u001b[0m \u001b[1;33m=\u001b[0m \u001b[0m_make_w3c_caps\u001b[0m\u001b[1;33m(\u001b[0m\u001b[0mcapabilities\u001b[0m\u001b[1;33m)\u001b[0m\u001b[1;33m\u001b[0m\u001b[0m\n\u001b[0;32m    377\u001b[0m         \u001b[0mparameters\u001b[0m \u001b[1;33m=\u001b[0m \u001b[1;33m{\u001b[0m\u001b[1;34m\"capabilities\"\u001b[0m\u001b[1;33m:\u001b[0m \u001b[0mw3c_caps\u001b[0m\u001b[1;33m}\u001b[0m\u001b[1;33m\u001b[0m\u001b[0m\n\u001b[1;32m--> 378\u001b[1;33m         \u001b[0mresponse\u001b[0m \u001b[1;33m=\u001b[0m \u001b[0mself\u001b[0m\u001b[1;33m.\u001b[0m\u001b[0mexecute\u001b[0m\u001b[1;33m(\u001b[0m\u001b[0mCommand\u001b[0m\u001b[1;33m.\u001b[0m\u001b[0mNEW_SESSION\u001b[0m\u001b[1;33m,\u001b[0m \u001b[0mparameters\u001b[0m\u001b[1;33m)\u001b[0m\u001b[1;33m\u001b[0m\u001b[0m\n\u001b[0m\u001b[0;32m    379\u001b[0m         \u001b[1;32mif\u001b[0m \u001b[1;34m\"sessionId\"\u001b[0m \u001b[1;32mnot\u001b[0m \u001b[1;32min\u001b[0m \u001b[0mresponse\u001b[0m\u001b[1;33m:\u001b[0m\u001b[1;33m\u001b[0m\u001b[0m\n\u001b[0;32m    380\u001b[0m             \u001b[0mresponse\u001b[0m \u001b[1;33m=\u001b[0m \u001b[0mresponse\u001b[0m\u001b[1;33m[\u001b[0m\u001b[1;34m\"value\"\u001b[0m\u001b[1;33m]\u001b[0m\u001b[1;33m\u001b[0m\u001b[0m\n",
      "\u001b[1;32mc:\\Users\\HP\\AppData\\Local\\Programs\\Python\\Python37\\lib\\site-packages\\selenium\\webdriver\\remote\\webdriver.py\u001b[0m in \u001b[0;36mexecute\u001b[1;34m(self, driver_command, params)\u001b[0m\n\u001b[0;32m    438\u001b[0m         \u001b[0mresponse\u001b[0m \u001b[1;33m=\u001b[0m \u001b[0mself\u001b[0m\u001b[1;33m.\u001b[0m\u001b[0mcommand_executor\u001b[0m\u001b[1;33m.\u001b[0m\u001b[0mexecute\u001b[0m\u001b[1;33m(\u001b[0m\u001b[0mdriver_command\u001b[0m\u001b[1;33m,\u001b[0m \u001b[0mparams\u001b[0m\u001b[1;33m)\u001b[0m\u001b[1;33m\u001b[0m\u001b[0m\n\u001b[0;32m    439\u001b[0m         \u001b[1;32mif\u001b[0m \u001b[0mresponse\u001b[0m\u001b[1;33m:\u001b[0m\u001b[1;33m\u001b[0m\u001b[0m\n\u001b[1;32m--> 440\u001b[1;33m             \u001b[0mself\u001b[0m\u001b[1;33m.\u001b[0m\u001b[0merror_handler\u001b[0m\u001b[1;33m.\u001b[0m\u001b[0mcheck_response\u001b[0m\u001b[1;33m(\u001b[0m\u001b[0mresponse\u001b[0m\u001b[1;33m)\u001b[0m\u001b[1;33m\u001b[0m\u001b[0m\n\u001b[0m\u001b[0;32m    441\u001b[0m             \u001b[0mresponse\u001b[0m\u001b[1;33m[\u001b[0m\u001b[1;34m\"value\"\u001b[0m\u001b[1;33m]\u001b[0m \u001b[1;33m=\u001b[0m \u001b[0mself\u001b[0m\u001b[1;33m.\u001b[0m\u001b[0m_unwrap_value\u001b[0m\u001b[1;33m(\u001b[0m\u001b[0mresponse\u001b[0m\u001b[1;33m.\u001b[0m\u001b[0mget\u001b[0m\u001b[1;33m(\u001b[0m\u001b[1;34m\"value\"\u001b[0m\u001b[1;33m,\u001b[0m \u001b[1;32mNone\u001b[0m\u001b[1;33m)\u001b[0m\u001b[1;33m)\u001b[0m\u001b[1;33m\u001b[0m\u001b[0m\n\u001b[0;32m    442\u001b[0m             \u001b[1;32mreturn\u001b[0m \u001b[0mresponse\u001b[0m\u001b[1;33m\u001b[0m\u001b[0m\n",
      "\u001b[1;32mc:\\Users\\HP\\AppData\\Local\\Programs\\Python\\Python37\\lib\\site-packages\\selenium\\webdriver\\remote\\errorhandler.py\u001b[0m in \u001b[0;36mcheck_response\u001b[1;34m(self, response)\u001b[0m\n\u001b[0;32m    243\u001b[0m                 \u001b[0malert_text\u001b[0m \u001b[1;33m=\u001b[0m \u001b[0mvalue\u001b[0m\u001b[1;33m[\u001b[0m\u001b[1;34m\"alert\"\u001b[0m\u001b[1;33m]\u001b[0m\u001b[1;33m.\u001b[0m\u001b[0mget\u001b[0m\u001b[1;33m(\u001b[0m\u001b[1;34m\"text\"\u001b[0m\u001b[1;33m)\u001b[0m\u001b[1;33m\u001b[0m\u001b[0m\n\u001b[0;32m    244\u001b[0m             \u001b[1;32mraise\u001b[0m \u001b[0mexception_class\u001b[0m\u001b[1;33m(\u001b[0m\u001b[0mmessage\u001b[0m\u001b[1;33m,\u001b[0m \u001b[0mscreen\u001b[0m\u001b[1;33m,\u001b[0m \u001b[0mstacktrace\u001b[0m\u001b[1;33m,\u001b[0m \u001b[0malert_text\u001b[0m\u001b[1;33m)\u001b[0m  \u001b[1;31m# type: ignore[call-arg]  # mypy is not smart enough here\u001b[0m\u001b[1;33m\u001b[0m\u001b[0m\n\u001b[1;32m--> 245\u001b[1;33m         \u001b[1;32mraise\u001b[0m \u001b[0mexception_class\u001b[0m\u001b[1;33m(\u001b[0m\u001b[0mmessage\u001b[0m\u001b[1;33m,\u001b[0m \u001b[0mscreen\u001b[0m\u001b[1;33m,\u001b[0m \u001b[0mstacktrace\u001b[0m\u001b[1;33m)\u001b[0m\u001b[1;33m\u001b[0m\u001b[0m\n\u001b[0m",
      "\u001b[1;31mWebDriverException\u001b[0m: Message: unknown error: cannot connect to chrome at 127.0.0.1:6048\nfrom session not created: This version of ChromeDriver only supports Chrome version 113\nCurrent browser version is 115.0.5790.102\nStacktrace:\nBacktrace:\n\tGetHandleVerifier [0x004E8893+48451]\n\t(No symbol) [0x0047B8A1]\n\t(No symbol) [0x00385058]\n\t(No symbol) [0x003A5D9C]\n\t(No symbol) [0x003A0151]\n\t(No symbol) [0x0039FF31]\n\t(No symbol) [0x003D0798]\n\t(No symbol) [0x003D047C]\n\t(No symbol) [0x003CA0B6]\n\t(No symbol) [0x003A7E08]\n\t(No symbol) [0x003A8F2D]\n\tGetHandleVerifier [0x00748E3A+2540266]\n\tGetHandleVerifier [0x00788959+2801161]\n\tGetHandleVerifier [0x0078295C+2776588]\n\tGetHandleVerifier [0x00572280+612144]\n\t(No symbol) [0x00484F6C]\n\t(No symbol) [0x004811D8]\n\t(No symbol) [0x004812BB]\n\t(No symbol) [0x00474857]\n\tBaseThreadInitThunk [0x775500C9+25]\n\tRtlGetAppContainerNamedObjectPath [0x77777B1E+286]\n\tRtlGetAppContainerNamedObjectPath [0x77777AEE+238]\n"
     ]
    }
   ],
   "source": [
    "import undetected_chromedriver as uc\n",
    "from bs4 import BeautifulSoup\n",
    "\n",
    "import numpy as np\n",
    "import pandas as pd\n",
    "import os\n",
    "import time\n",
    "from dotenv import load_dotenv\n",
    "from datetime import date\n",
    "\n",
    "\n",
    "def append_to_url_df(df: pd.DataFrame, doctors_set: set, condition: str):\n",
    "    # use today's date to mark when data was scraped\n",
    "    tmp = pd.DataFrame({\"url\": list(doctors_set), \"condition\": [condition]*len(doctors_set), \"date\":[date.today()]*len(doctors_set)})\n",
    "    df = pd.concat([df, tmp], ignore_index=True)\n",
    "    return df\n",
    "\n",
    "def load_params(location: str=\"United States\", condition: str= \"Neurofibromatosis\"):\n",
    "    load_dotenv()\n",
    "    MEDIFIND_USERNAME = os.getenv(\"MEDIFIND_USERNAME\")\n",
    "    MEDIFIND_PASSWORD = os.getenv(\"MEDIFIND_PASSWORD\")\n",
    "    return {\n",
    "        \"MEDIFIND_USERNAME\": MEDIFIND_USERNAME,\n",
    "        \"MEDIFIND_PASSWORD\": MEDIFIND_PASSWORD,\n",
    "        \"location\": location,\n",
    "        \"condition\": condition\n",
    "    }\n",
    "    \n",
    "\n",
    "\n",
    "time_between_scraping_pages =15,\n",
    "location = \"United States\"\n",
    "condition = \"Neurofibromatosis\"\n",
    "params = load_params(location = location, condition = condition)\n",
    "\n",
    "options = uc.ChromeOptions()\n",
    "options.add_argument(\"--password-store=basic\")\n",
    "options.add_experimental_option(\n",
    "    \"prefs\",\n",
    "    {\n",
    "        \"credentials_enable_service\": False,\n",
    "        \"profile.password_manager_enabled\": False,\n",
    "    },\n",
    ")\n",
    "\n",
    "# launch selenium, driver\n",
    "driver = uc.Chrome(options=options)\n",
    "time.sleep(2)\n",
    "driver.get(\"https://www.medifind.com/\")\n",
    "time.sleep(2)\n",
    "\n",
    "# click the profile button\n",
    "the_xpath = \"//button[contains(@id, 'toggle-profile')]\"\n",
    "profile_button = driver.find_element(\"xpath\", the_xpath)\n",
    "profile_button.click()\n",
    "time.sleep(5)\n",
    "\n",
    "# send username and password\n",
    "driver.find_elements('xpath', '//input[@type=\"email\"]')[0].send_keys(params[\"MEDIFIND_USERNAME\"])\n",
    "time.sleep(2)\n",
    "driver.find_elements('xpath', '//input[@type=\"password\"]')[0].send_keys(params[\"MEDIFIND_PASSWORD\"])\n",
    "time.sleep(2)\n",
    "\n",
    "\n",
    "# click login\n",
    "the_xpath = \"//button[text()='Log In']\"\n",
    "log_in_button = driver.find_element(\"xpath\", the_xpath)\n",
    "# now we logged on, so now we can navigate search results without limitation\n",
    "log_in_button.click()\n",
    "time.sleep(5)\n",
    "\n",
    "# clear location if we need to do it\n",
    "the_xpath='//div[contains(@class,\"Landing_form-input__5H2Lm\")]//button'\n",
    "location_buttons = driver.find_elements('xpath', the_xpath)\n",
    "# bc we have 2 buttons in location form input but sometimes we have just 1 \n",
    "# (just the location button and not the x button)\n",
    "if len(location_buttons) == 2:\n",
    "    location_buttons[0].click()\n",
    "    time.sleep(2)\n",
    "\n",
    "# send location param\n",
    "location_inputs = driver.find_element('xpath', '//input[@id=\"ac-location-filter\"]')\n",
    "location_inputs.send_keys(location)\n",
    "time.sleep(2)\n",
    "\n",
    "# choose location out of search results\n",
    "# this works and gets past the search button not working, \n",
    "the_xpath = '//ul[contains(@class,\"Autocomplete-Select_menu-list__mETH4 Autocomplete-Select_open__ZUDjv\")]//li'\n",
    "location_search_results = driver.find_elements(\"xpath\", the_xpath)\n",
    "for i, location_search_result in enumerate(location_search_results):\n",
    "    location_search_result_text = BeautifulSoup(location_search_result.get_attribute(\"innerHTML\"), 'html.parser').text\n",
    "    if location_search_result_text == location:\n",
    "        chosen_index = i\n",
    "        break\n",
    "location_search_results[i].click()\n",
    "time.sleep(2)\n",
    "\n",
    "# Send search param\n",
    "search_param = driver.find_element('xpath', '//input[@id=\"find-a-doctor-form-magic-filter\"]')\n",
    "search_param.send_keys(condition)\n",
    "time.sleep(2)\n",
    "\n",
    "# choose search condition out of search results\n",
    "# this works and gets past the search button not working\n",
    "the_xpath = '//ul[contains(@class,\"Autocomplete-Select_menu-list__mETH4 Autocomplete-Select_open__ZUDjv\")]//li'\n",
    "search_results = driver.find_elements(\"xpath\", the_xpath)\n",
    "for i, search_result in enumerate(search_results):\n",
    "    search_result_text = BeautifulSoup(search_result.get_attribute(\"innerHTML\"), 'html.parser').text\n",
    "    if search_result_text == condition:\n",
    "        chosen_index = i\n",
    "        break\n",
    "search_results[i].click()\n",
    "time.sleep(5)\n",
    "\n",
    "# instantiate empty dataframe\n",
    "provider_urls_df = pd.DataFrame({\"url\": [], \"condition\": [], \"date\":[]})\n",
    "\n",
    "page_num = 0\n",
    "\n",
    "\n",
    "\n",
    "# if __name__==\"__main__\":\n",
    "#     provider_urls_df = scrape_medifind_urls(\n",
    "#         time_between_scraping_pages = 2,\n",
    "#         location = \"United States\", \n",
    "#         condition = \"Neurofibromatosis\"\n",
    "#     )\n",
    "#     provider_urls_df.to_excel(\"data/medifind_providers_v2.xlsx\")"
   ]
  },
  {
   "cell_type": "code",
   "execution_count": 11,
   "metadata": {},
   "outputs": [],
   "source": [
    "driver.execute_script(\"window.scrollTo(0, document.body.scrollHeight);\")"
   ]
  },
  {
   "cell_type": "code",
   "execution_count": 17,
   "metadata": {},
   "outputs": [],
   "source": [
    "try:\n",
    "    the_xpath = '//button[contains(@id, \"modal-close\")]'\n",
    "    close_cookies_button = driver.find_element(\"xpath\", the_xpath)\n",
    "    close_cookies_button.click()\n",
    "    time.sleep(2)\n",
    "except Exception:\n",
    "    pass\n"
   ]
  },
  {
   "cell_type": "code",
   "execution_count": 6,
   "metadata": {},
   "outputs": [],
   "source": [
    "driver.maximize_window()\n"
   ]
  },
  {
   "cell_type": "code",
   "execution_count": 15,
   "metadata": {},
   "outputs": [
    {
     "name": "stdout",
     "output_type": "stream",
     "text": [
      "<undetected_chromedriver.webelement.WebElement (session=\"f14bc88e8d92f5981f0b5abbeecf4b63\", element=\"75c061d3-600a-4fc6-a2f7-e6a236e7fdf9\")>\n"
     ]
    }
   ],
   "source": [
    "the_xpath = '//span[text()=\"Next\"]/ancestor::button'\n",
    "next_button = driver.find_element(\"xpath\", the_xpath)\n",
    "print(next_button)\n",
    "next_button.click()"
   ]
  },
  {
   "cell_type": "code",
   "execution_count": null,
   "metadata": {},
   "outputs": [],
   "source": [
    "while True:\n",
    "    # scroll all the way down to get past lazy loading\n",
    "    driver.execute_script(\"window.scrollTo(0, document.body.scrollHeight);\")\n",
    "\n",
    "    # now get the urls of the doctor pages for every page\n",
    "    the_xpath = '//div[contains(@class,\"DoctorCard_header__row__XFqB2\")]//a'\n",
    "    doctor_urls = driver.find_elements(\"xpath\", the_xpath)\n",
    "\n",
    "    doctor_urls_set = set()\n",
    "    for url in doctor_urls:\n",
    "        doctor_urls_set.add(url.get_attribute(\"href\"))\n",
    "    \n",
    "    provider_urls_df = append_to_url_df(df = provider_urls_df, doctors_set = doctor_urls_set, condition = condition)\n",
    "\n",
    "    page_num+=1\n",
    "    print(f\"Shape of df: {provider_urls_df.shape}\")\n",
    "    print(f\"Scraped page # {page_num}!...\")\n",
    "\n",
    "    # try navigating to next page\n",
    "    try:\n",
    "        # waiting for next button to be clickable\n",
    "        time.sleep(3)\n",
    "        the_xpath = '//span[text()=\"Next\"]/ancestor::button'\n",
    "        next_button = driver.find_element(\"xpath\", the_xpath)\n",
    "        print(next_button)\n",
    "        next_button.click()\n",
    "        time.sleep(time_between_scraping_pages)\n",
    "    except Exception as e:\n",
    "        print(e)\n",
    "        print(\"Either we have no more pages or something else went wrong\")\n",
    "        break                       \n"
   ]
  },
  {
   "cell_type": "code",
   "execution_count": 43,
   "metadata": {},
   "outputs": [],
   "source": [
    "df = pd.read_excel(\"data/medifind_providers_v2_1.xlsx\")"
   ]
  },
  {
   "cell_type": "code",
   "execution_count": 44,
   "metadata": {},
   "outputs": [
    {
     "data": {
      "text/plain": [
       "2649"
      ]
     },
     "execution_count": 44,
     "metadata": {},
     "output_type": "execute_result"
    }
   ],
   "source": [
    "df.url.nunique()"
   ]
  },
  {
   "cell_type": "code",
   "execution_count": 45,
   "metadata": {},
   "outputs": [
    {
     "data": {
      "text/html": [
       "<div>\n",
       "<style scoped>\n",
       "    .dataframe tbody tr th:only-of-type {\n",
       "        vertical-align: middle;\n",
       "    }\n",
       "\n",
       "    .dataframe tbody tr th {\n",
       "        vertical-align: top;\n",
       "    }\n",
       "\n",
       "    .dataframe thead th {\n",
       "        text-align: right;\n",
       "    }\n",
       "</style>\n",
       "<table border=\"1\" class=\"dataframe\">\n",
       "  <thead>\n",
       "    <tr style=\"text-align: right;\">\n",
       "      <th></th>\n",
       "      <th>url</th>\n",
       "      <th>condition</th>\n",
       "      <th>date</th>\n",
       "    </tr>\n",
       "  </thead>\n",
       "  <tbody>\n",
       "    <tr>\n",
       "      <th>0</th>\n",
       "      <td>https://www.medifind.com/conditions/neurofibro...</td>\n",
       "      <td>Neurofibromatosis</td>\n",
       "      <td>2023-03-04</td>\n",
       "    </tr>\n",
       "    <tr>\n",
       "      <th>1</th>\n",
       "      <td>https://www.medifind.com/conditions/neurofibro...</td>\n",
       "      <td>Neurofibromatosis</td>\n",
       "      <td>2023-03-04</td>\n",
       "    </tr>\n",
       "    <tr>\n",
       "      <th>2</th>\n",
       "      <td>https://www.medifind.com/conditions/neurofibro...</td>\n",
       "      <td>Neurofibromatosis</td>\n",
       "      <td>2023-03-04</td>\n",
       "    </tr>\n",
       "    <tr>\n",
       "      <th>3</th>\n",
       "      <td>https://www.medifind.com/conditions/neurofibro...</td>\n",
       "      <td>Neurofibromatosis</td>\n",
       "      <td>2023-03-04</td>\n",
       "    </tr>\n",
       "    <tr>\n",
       "      <th>4</th>\n",
       "      <td>https://www.medifind.com/conditions/neurofibro...</td>\n",
       "      <td>Neurofibromatosis</td>\n",
       "      <td>2023-03-04</td>\n",
       "    </tr>\n",
       "    <tr>\n",
       "      <th>...</th>\n",
       "      <td>...</td>\n",
       "      <td>...</td>\n",
       "      <td>...</td>\n",
       "    </tr>\n",
       "    <tr>\n",
       "      <th>2659</th>\n",
       "      <td>https://www.medifind.com/conditions/neurofibro...</td>\n",
       "      <td>Neurofibromatosis</td>\n",
       "      <td>2023-03-04</td>\n",
       "    </tr>\n",
       "    <tr>\n",
       "      <th>2660</th>\n",
       "      <td>https://www.medifind.com/conditions/neurofibro...</td>\n",
       "      <td>Neurofibromatosis</td>\n",
       "      <td>2023-03-04</td>\n",
       "    </tr>\n",
       "    <tr>\n",
       "      <th>2661</th>\n",
       "      <td>https://www.medifind.com/conditions/neurofibro...</td>\n",
       "      <td>Neurofibromatosis</td>\n",
       "      <td>2023-03-04</td>\n",
       "    </tr>\n",
       "    <tr>\n",
       "      <th>2662</th>\n",
       "      <td>https://www.medifind.com/conditions/neurofibro...</td>\n",
       "      <td>Neurofibromatosis</td>\n",
       "      <td>2023-03-04</td>\n",
       "    </tr>\n",
       "    <tr>\n",
       "      <th>2663</th>\n",
       "      <td>https://www.mayoclinic.org/appointments?mc_id=...</td>\n",
       "      <td>Neurofibromatosis</td>\n",
       "      <td>2023-03-04</td>\n",
       "    </tr>\n",
       "  </tbody>\n",
       "</table>\n",
       "<p>2664 rows × 3 columns</p>\n",
       "</div>"
      ],
      "text/plain": [
       "                                                    url          condition  \\\n",
       "0     https://www.medifind.com/conditions/neurofibro...  Neurofibromatosis   \n",
       "1     https://www.medifind.com/conditions/neurofibro...  Neurofibromatosis   \n",
       "2     https://www.medifind.com/conditions/neurofibro...  Neurofibromatosis   \n",
       "3     https://www.medifind.com/conditions/neurofibro...  Neurofibromatosis   \n",
       "4     https://www.medifind.com/conditions/neurofibro...  Neurofibromatosis   \n",
       "...                                                 ...                ...   \n",
       "2659  https://www.medifind.com/conditions/neurofibro...  Neurofibromatosis   \n",
       "2660  https://www.medifind.com/conditions/neurofibro...  Neurofibromatosis   \n",
       "2661  https://www.medifind.com/conditions/neurofibro...  Neurofibromatosis   \n",
       "2662  https://www.medifind.com/conditions/neurofibro...  Neurofibromatosis   \n",
       "2663  https://www.mayoclinic.org/appointments?mc_id=...  Neurofibromatosis   \n",
       "\n",
       "           date  \n",
       "0    2023-03-04  \n",
       "1    2023-03-04  \n",
       "2    2023-03-04  \n",
       "3    2023-03-04  \n",
       "4    2023-03-04  \n",
       "...         ...  \n",
       "2659 2023-03-04  \n",
       "2660 2023-03-04  \n",
       "2661 2023-03-04  \n",
       "2662 2023-03-04  \n",
       "2663 2023-03-04  \n",
       "\n",
       "[2664 rows x 3 columns]"
      ]
     },
     "execution_count": 45,
     "metadata": {},
     "output_type": "execute_result"
    }
   ],
   "source": [
    "df"
   ]
  },
  {
   "cell_type": "code",
   "execution_count": 42,
   "metadata": {},
   "outputs": [
    {
     "data": {
      "text/plain": [
       "2640"
      ]
     },
     "execution_count": 42,
     "metadata": {},
     "output_type": "execute_result"
    }
   ],
   "source": [
    "len([ x for x in df.url if \"medifind.com\" in x])"
   ]
  },
  {
   "cell_type": "code",
   "execution_count": 41,
   "metadata": {},
   "outputs": [
    {
     "data": {
      "text/plain": [
       "'https://www.mayoclinic.org/appointments?mc_id=us&utm_source=medifind&utm_medium=l&utm_content=physicianlistcancer&utm_campaign=mayoclinic&geo=midwest&placementsite=minnesota&invsrc=cancer&cauid=178264'"
      ]
     },
     "execution_count": 41,
     "metadata": {},
     "output_type": "execute_result"
    }
   ],
   "source": [
    "df.iloc[2663].url"
   ]
  },
  {
   "cell_type": "code",
   "execution_count": 29,
   "metadata": {},
   "outputs": [],
   "source": [
    "df.loc[:,~df.columns.isin([\"Unnamed: 0\"])].to_excel(\"data/medifind_providers_v2_1.xlsx\", index = False)"
   ]
  },
  {
   "cell_type": "code",
   "execution_count": null,
   "metadata": {},
   "outputs": [],
   "source": []
  }
 ],
 "metadata": {
  "kernelspec": {
   "display_name": "pl_dev_1",
   "language": "python",
   "name": "python3"
  },
  "language_info": {
   "codemirror_mode": {
    "name": "ipython",
    "version": 3
   },
   "file_extension": ".py",
   "mimetype": "text/x-python",
   "name": "python",
   "nbconvert_exporter": "python",
   "pygments_lexer": "ipython3",
   "version": "3.7.0"
  },
  "orig_nbformat": 4,
  "vscode": {
   "interpreter": {
    "hash": "9242012419c520fb2a40a2aa0ff70c7f091a54e2be81984ec7393bd241ebc50c"
   }
  }
 },
 "nbformat": 4,
 "nbformat_minor": 2
}
